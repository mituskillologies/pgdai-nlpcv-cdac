{
 "cells": [
  {
   "cell_type": "markdown",
   "id": "ad23f88e",
   "metadata": {},
   "source": [
    "#### Dataset "
   ]
  },
  {
   "cell_type": "code",
   "execution_count": 1,
   "id": "7fbdbaeb",
   "metadata": {},
   "outputs": [],
   "source": [
    "# Dataset: bbc-news-data.txt\n",
    "# Location: https://mitu.co.in/dataset"
   ]
  },
  {
   "cell_type": "markdown",
   "id": "645a6bf8",
   "metadata": {},
   "source": [
    "#### Import necessary libraries"
   ]
  },
  {
   "cell_type": "code",
   "execution_count": 3,
   "id": "ed143684",
   "metadata": {},
   "outputs": [],
   "source": [
    "import pandas as pd\n",
    "import numpy as np\n",
    "import matplotlib.pyplot as plt"
   ]
  },
  {
   "cell_type": "markdown",
   "id": "71b7ef79",
   "metadata": {},
   "source": [
    "#### Read dataset"
   ]
  },
  {
   "cell_type": "code",
   "execution_count": 7,
   "id": "4fdb9e0d",
   "metadata": {},
   "outputs": [],
   "source": [
    "file = open('/home/mitu/bbc-text-data.csv')"
   ]
  },
  {
   "cell_type": "code",
   "execution_count": 8,
   "id": "0596a6e3",
   "metadata": {},
   "outputs": [],
   "source": [
    "data = file.readlines()"
   ]
  },
  {
   "cell_type": "code",
   "execution_count": 10,
   "id": "6f1418a3",
   "metadata": {},
   "outputs": [
    {
     "data": {
      "text/plain": [
       "2225"
      ]
     },
     "execution_count": 10,
     "metadata": {},
     "output_type": "execute_result"
    }
   ],
   "source": [
    "len(data)"
   ]
  },
  {
   "cell_type": "markdown",
   "id": "0f850a3c",
   "metadata": {},
   "source": [
    "#### Feature Extraction"
   ]
  },
  {
   "cell_type": "code",
   "execution_count": 12,
   "id": "78b0c02e",
   "metadata": {},
   "outputs": [],
   "source": [
    "from sklearn.feature_extraction.text import TfidfVectorizer"
   ]
  },
  {
   "cell_type": "code",
   "execution_count": 13,
   "id": "6b409bdd",
   "metadata": {},
   "outputs": [],
   "source": [
    "tfidf = TfidfVectorizer(stop_words='english')"
   ]
  },
  {
   "cell_type": "code",
   "execution_count": 14,
   "id": "474ed941",
   "metadata": {},
   "outputs": [],
   "source": [
    "x_vect = tfidf.fit_transform(data)"
   ]
  },
  {
   "cell_type": "code",
   "execution_count": 15,
   "id": "814ef409",
   "metadata": {},
   "outputs": [
    {
     "data": {
      "text/plain": [
       "(2225, 29126)"
      ]
     },
     "execution_count": 15,
     "metadata": {},
     "output_type": "execute_result"
    }
   ],
   "source": [
    "x_vect.shape"
   ]
  },
  {
   "cell_type": "markdown",
   "id": "abbc57b0",
   "metadata": {},
   "source": [
    "#### Elbow method"
   ]
  },
  {
   "cell_type": "code",
   "execution_count": 17,
   "id": "8d277766",
   "metadata": {},
   "outputs": [],
   "source": [
    "from sklearn.cluster import KMeans"
   ]
  },
  {
   "cell_type": "code",
   "execution_count": 21,
   "id": "3c6e0cf4",
   "metadata": {},
   "outputs": [],
   "source": [
    "sse = []\n",
    "for k in range(1,40):\n",
    "    km = KMeans(n_clusters=k, random_state=0)\n",
    "    km.fit_predict(x_vect)\n",
    "    sse.append(km.inertia_)"
   ]
  },
  {
   "cell_type": "code",
   "execution_count": 22,
   "id": "def30dfa",
   "metadata": {},
   "outputs": [
    {
     "data": {
      "text/plain": [
       "[<matplotlib.lines.Line2D at 0x7f11b44c7820>]"
      ]
     },
     "execution_count": 22,
     "metadata": {},
     "output_type": "execute_result"
    },
    {
     "data": {
      "image/png": "[encoded data removed]",
      "text/plain": [
       "<Figure size 432x288 with 1 Axes>"
      ]
     },
     "metadata": {
      "needs_background": "light"
     },
     "output_type": "display_data"
    }
   ],
   "source": [
    "plt.plot(range(1,40), sse)"
   ]
  },
  {
   "cell_type": "code",
   "execution_count": 23,
   "id": "48a7f213",
   "metadata": {},
   "outputs": [],
   "source": [
    "from kneed import KneeLocator"
   ]
  },
  {
   "cell_type": "code",
   "execution_count": 25,
   "id": "4dc6fbd0",
   "metadata": {},
   "outputs": [],
   "source": [
    "kl = KneeLocator(range(1, 40), sse, curve=\"convex\", \n",
    "                 direction=\"decreasing\")"
   ]
  },
  {
   "cell_type": "code",
   "execution_count": 26,
   "id": "b31300d7",
   "metadata": {},
   "outputs": [
    {
     "data": {
      "text/plain": [
       "17"
      ]
     },
     "execution_count": 26,
     "metadata": {},
     "output_type": "execute_result"
    }
   ],
   "source": [
    "kl.elbow"
   ]
  },
  {
   "cell_type": "markdown",
   "id": "6081bf4f",
   "metadata": {},
   "source": [
    "#### Build the model"
   ]
  },
  {
   "cell_type": "code",
   "execution_count": 31,
   "id": "e5398789",
   "metadata": {},
   "outputs": [],
   "source": [
    "km = KMeans(n_clusters=5, random_state=0)"
   ]
  },
  {
   "cell_type": "code",
   "execution_count": 32,
   "id": "93d4f003",
   "metadata": {},
   "outputs": [],
   "source": [
    "labels = km.fit_predict(x_vect)"
   ]
  },
  {
   "cell_type": "code",
   "execution_count": 33,
   "id": "354cf2f2",
   "metadata": {},
   "outputs": [
    {
     "data": {
      "text/plain": [
       "array([0, 1, 2, ..., 4, 1, 2], dtype=int32)"
      ]
     },
     "execution_count": 33,
     "metadata": {},
     "output_type": "execute_result"
    }
   ],
   "source": [
    "labels"
   ]
  },
  {
   "cell_type": "code",
   "execution_count": 34,
   "id": "ad459ea1",
   "metadata": {},
   "outputs": [
    {
     "data": {
      "text/plain": [
       "array([0, 1, 2, ..., 4, 1, 2], dtype=int32)"
      ]
     },
     "execution_count": 34,
     "metadata": {},
     "output_type": "execute_result"
    }
   ],
   "source": [
    "km.labels_"
   ]
  },
  {
   "cell_type": "code",
   "execution_count": 35,
   "id": "3120469c",
   "metadata": {},
   "outputs": [
    {
     "data": {
      "text/plain": [
       "2225"
      ]
     },
     "execution_count": 35,
     "metadata": {},
     "output_type": "execute_result"
    }
   ],
   "source": [
    "len(labels)"
   ]
  },
  {
   "cell_type": "code",
   "execution_count": 44,
   "id": "b17bb89a",
   "metadata": {},
   "outputs": [
    {
     "data": {
      "text/plain": [
       "2225"
      ]
     },
     "execution_count": 44,
     "metadata": {},
     "output_type": "execute_result"
    }
   ],
   "source": [
    "df = pd.DataFrame(data, columns=['text'])"
   ]
  },
  {
   "cell_type": "code",
   "execution_count": 48,
   "id": "8579c69f",
   "metadata": {},
   "outputs": [
    {
     "name": "stdout",
     "output_type": "stream",
     "text": [
      "0: 372\n",
      "1: 715\n",
      "2: 536\n",
      "3: 263\n",
      "4: 339\n"
     ]
    }
   ],
   "source": [
    "print('0:', len(df[labels == 0]))\n",
    "print('1:', len(df[labels == 1]))\n",
    "print('2:', len(df[labels == 2]))\n",
    "print('3:', len(df[labels == 3]))\n",
    "print('4:', len(df[labels == 4]))"
   ]
  },
  {
   "cell_type": "code",
   "execution_count": 68,
   "id": "a7bb0aca",
   "metadata": {},
   "outputs": [],
   "source": [
    "from nltk import FreqDist\n",
    "from nltk.corpus import stopwords"
   ]
  },
  {
   "cell_type": "code",
   "execution_count": 75,
   "id": "9e80ef77",
   "metadata": {},
   "outputs": [
    {
     "data": {
      "text/plain": [
       "[('said', 572),\n",
       " ('game', 465),\n",
       " ('first', 448),\n",
       " ('england', 442),\n",
       " ('would', 420),\n",
       " ('last', 404),\n",
       " ('world', 385),\n",
       " ('two', 371),\n",
       " ('win', 368),\n",
       " ('one', 360)]"
      ]
     },
     "execution_count": 75,
     "metadata": {},
     "output_type": "execute_result"
    }
   ],
   "source": [
    "two = df[labels == 2]['text']\n",
    "two_data = list(two.values)\n",
    "words = []\n",
    "for sent in two_data:\n",
    "    words.extend(sent.split())\n",
    "\n",
    "words = [word for word in words \n",
    "         if word not in stopwords.words('english')\n",
    "        and word.isalpha()]\n",
    "\n",
    "freq = FreqDist(words)\n",
    "freq.most_common(10)"
   ]
  },
  {
   "cell_type": "code",
   "execution_count": 76,
   "id": "ccf60c1f",
   "metadata": {},
   "outputs": [
    {
     "data": {
      "text/plain": [
       "[('said', 1158),\n",
       " ('people', 898),\n",
       " ('also', 500),\n",
       " ('mr', 491),\n",
       " ('new', 478),\n",
       " ('mobile', 458),\n",
       " ('would', 449),\n",
       " ('one', 448),\n",
       " ('could', 444),\n",
       " ('technology', 435)]"
      ]
     },
     "execution_count": 76,
     "metadata": {},
     "output_type": "execute_result"
    }
   ],
   "source": [
    "two = df[labels == 0]['text']\n",
    "two_data = list(two.values)\n",
    "words = []\n",
    "for sent in two_data:\n",
    "    words.extend(sent.split())\n",
    "\n",
    "words = [word for word in words \n",
    "         if word not in stopwords.words('english')\n",
    "        and word.isalpha()]\n",
    "\n",
    "freq = FreqDist(words)\n",
    "freq.most_common(10)"
   ]
  },
  {
   "cell_type": "code",
   "execution_count": 77,
   "id": "87d3dc8c",
   "metadata": {},
   "outputs": [
    {
     "data": {
      "text/plain": [
       "[('said', 1936),\n",
       " ('us', 904),\n",
       " ('mr', 834),\n",
       " ('would', 780),\n",
       " ('also', 637),\n",
       " ('new', 589),\n",
       " ('year', 584),\n",
       " ('government', 570),\n",
       " ('could', 469),\n",
       " ('last', 459)]"
      ]
     },
     "execution_count": 77,
     "metadata": {},
     "output_type": "execute_result"
    }
   ],
   "source": [
    "two = df[labels == 1]['text']\n",
    "two_data = list(two.values)\n",
    "words = []\n",
    "for sent in two_data:\n",
    "    words.extend(sent.split())\n",
    "\n",
    "words = [word for word in words \n",
    "         if word not in stopwords.words('english')\n",
    "        and word.isalpha()]\n",
    "\n",
    "freq = FreqDist(words)\n",
    "freq.most_common(10)"
   ]
  },
  {
   "cell_type": "code",
   "execution_count": 78,
   "id": "57d5d644",
   "metadata": {},
   "outputs": [
    {
     "data": {
      "text/plain": [
       "[('mr', 1442),\n",
       " ('said', 996),\n",
       " ('would', 759),\n",
       " ('labour', 703),\n",
       " ('blair', 502),\n",
       " ('party', 492),\n",
       " ('election', 439),\n",
       " ('government', 438),\n",
       " ('people', 387),\n",
       " ('brown', 345)]"
      ]
     },
     "execution_count": 78,
     "metadata": {},
     "output_type": "execute_result"
    }
   ],
   "source": [
    "two = df[labels == 3]['text']\n",
    "two_data = list(two.values)\n",
    "words = []\n",
    "for sent in two_data:\n",
    "    words.extend(sent.split())\n",
    "\n",
    "words = [word for word in words \n",
    "         if word not in stopwords.words('english')\n",
    "        and word.isalpha()]\n",
    "\n",
    "freq = FreqDist(words)\n",
    "freq.most_common(10)"
   ]
  },
  {
   "cell_type": "code",
   "execution_count": 79,
   "id": "50720488",
   "metadata": {},
   "outputs": [
    {
     "data": {
      "text/plain": [
       "[('film', 707),\n",
       " ('best', 614),\n",
       " ('said', 410),\n",
       " ('also', 359),\n",
       " ('music', 330),\n",
       " ('one', 307),\n",
       " ('new', 295),\n",
       " ('year', 287),\n",
       " ('us', 286),\n",
       " ('awards', 248)]"
      ]
     },
     "execution_count": 79,
     "metadata": {},
     "output_type": "execute_result"
    }
   ],
   "source": [
    "two = df[labels == 4]['text']\n",
    "two_data = list(two.values)\n",
    "words = []\n",
    "for sent in two_data:\n",
    "    words.extend(sent.split())\n",
    "\n",
    "words = [word for word in words \n",
    "         if word not in stopwords.words('english')\n",
    "        and word.isalpha()]\n",
    "\n",
    "freq = FreqDist(words)\n",
    "freq.most_common(10)"
   ]
  },
  {
   "cell_type": "code",
   "execution_count": null,
   "id": "02bddc21",
   "metadata": {},
   "outputs": [],
   "source": []
  }
 ],
 "metadata": {
  "kernelspec": {
   "display_name": "Python 3",
   "language": "python",
   "name": "python3"
  },
  "language_info": {
   "codemirror_mode": {
    "name": "ipython",
    "version": 3
   },
   "file_extension": ".py",
   "mimetype": "text/x-python",
   "name": "python",
   "nbconvert_exporter": "python",
   "pygments_lexer": "ipython3",
   "version": "3.8.10"
  }
 },
 "nbformat": 4,
 "nbformat_minor": 5
}
