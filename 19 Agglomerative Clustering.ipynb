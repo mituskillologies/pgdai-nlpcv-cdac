{
 "cells": [
  {
   "cell_type": "markdown",
   "id": "e69af4fb",
   "metadata": {},
   "source": [
    "#### Dataset "
   ]
  },
  {
   "cell_type": "code",
   "execution_count": 80,
   "id": "5293b527",
   "metadata": {},
   "outputs": [],
   "source": [
    "# Dataset: bbc-news-data.txt\n",
    "# Location: https://mitu.co.in/dataset"
   ]
  },
  {
   "cell_type": "markdown",
   "id": "59e30fbc",
   "metadata": {},
   "source": [
    "#### Import necessary libraries"
   ]
  },
  {
   "cell_type": "code",
   "execution_count": 81,
   "id": "af5d913f",
   "metadata": {},
   "outputs": [],
   "source": [
    "import pandas as pd\n",
    "import numpy as np\n",
    "import matplotlib.pyplot as plt"
   ]
  },
  {
   "cell_type": "markdown",
   "id": "15707878",
   "metadata": {},
   "source": [
    "#### Read dataset"
   ]
  },
  {
   "cell_type": "code",
   "execution_count": 82,
   "id": "277383be",
   "metadata": {},
   "outputs": [],
   "source": [
    "file = open('/home/mitu/bbc-text-data.csv')"
   ]
  },
  {
   "cell_type": "code",
   "execution_count": 83,
   "id": "0ffcec41",
   "metadata": {},
   "outputs": [],
   "source": [
    "data = file.readlines()"
   ]
  },
  {
   "cell_type": "code",
   "execution_count": 84,
   "id": "49ce0388",
   "metadata": {},
   "outputs": [
    {
     "data": {
      "text/plain": [
       "2225"
      ]
     },
     "execution_count": 84,
     "metadata": {},
     "output_type": "execute_result"
    }
   ],
   "source": [
    "len(data)"
   ]
  },
  {
   "cell_type": "markdown",
   "id": "f4d94edb",
   "metadata": {},
   "source": [
    "#### Feature Extraction"
   ]
  },
  {
   "cell_type": "code",
   "execution_count": 85,
   "id": "aa1a5573",
   "metadata": {},
   "outputs": [],
   "source": [
    "from sklearn.feature_extraction.text import TfidfVectorizer"
   ]
  },
  {
   "cell_type": "code",
   "execution_count": 86,
   "id": "d75f00c4",
   "metadata": {},
   "outputs": [],
   "source": [
    "tfidf = TfidfVectorizer(stop_words='english')"
   ]
  },
  {
   "cell_type": "code",
   "execution_count": 87,
   "id": "db7d2783",
   "metadata": {},
   "outputs": [],
   "source": [
    "x_vect = tfidf.fit_transform(data)"
   ]
  },
  {
   "cell_type": "code",
   "execution_count": 88,
   "id": "9aaf71d4",
   "metadata": {},
   "outputs": [
    {
     "data": {
      "text/plain": [
       "(2225, 29126)"
      ]
     },
     "execution_count": 88,
     "metadata": {},
     "output_type": "execute_result"
    }
   ],
   "source": [
    "x_vect.shape"
   ]
  },
  {
   "cell_type": "markdown",
   "id": "b23b67f7",
   "metadata": {},
   "source": [
    "#### Build the model"
   ]
  },
  {
   "cell_type": "code",
   "execution_count": 105,
   "id": "d2b61e32",
   "metadata": {},
   "outputs": [],
   "source": [
    "from sklearn.cluster import AgglomerativeClustering\n",
    "from scipy.cluster.hierarchy import linkage"
   ]
  },
  {
   "cell_type": "code",
   "execution_count": 115,
   "id": "f52aafab",
   "metadata": {},
   "outputs": [],
   "source": [
    "km = AgglomerativeClustering(n_clusters=5)"
   ]
  },
  {
   "cell_type": "code",
   "execution_count": 116,
   "id": "f9be5f8b",
   "metadata": {},
   "outputs": [],
   "source": [
    "labels = km.fit_predict(x_vect.toarray())"
   ]
  },
  {
   "cell_type": "code",
   "execution_count": 117,
   "id": "60d1007a",
   "metadata": {},
   "outputs": [
    {
     "data": {
      "text/plain": [
       "array([4, 0, 0, ..., 0, 0, 0])"
      ]
     },
     "execution_count": 117,
     "metadata": {},
     "output_type": "execute_result"
    }
   ],
   "source": [
    "labels"
   ]
  },
  {
   "cell_type": "code",
   "execution_count": 118,
   "id": "c74c8f32",
   "metadata": {},
   "outputs": [
    {
     "data": {
      "text/plain": [
       "array([4, 0, 0, ..., 0, 0, 0])"
      ]
     },
     "execution_count": 118,
     "metadata": {},
     "output_type": "execute_result"
    }
   ],
   "source": [
    "km.labels_"
   ]
  },
  {
   "cell_type": "code",
   "execution_count": 119,
   "id": "b4a1d231",
   "metadata": {},
   "outputs": [
    {
     "data": {
      "text/plain": [
       "2225"
      ]
     },
     "execution_count": 119,
     "metadata": {},
     "output_type": "execute_result"
    }
   ],
   "source": [
    "len(labels)"
   ]
  },
  {
   "cell_type": "markdown",
   "id": "fb06a01e",
   "metadata": {},
   "source": [
    "#### Extract the clusters"
   ]
  },
  {
   "cell_type": "code",
   "execution_count": 124,
   "id": "a3c6a39b",
   "metadata": {},
   "outputs": [
    {
     "data": {
      "text/plain": [
       "{0: 1121, 4: 368, 2: 365, 1: 225, 3: 146}"
      ]
     },
     "execution_count": 124,
     "metadata": {},
     "output_type": "execute_result"
    }
   ],
   "source": [
    "pd.Series(labels).value_counts().to_dict()"
   ]
  },
  {
   "cell_type": "code",
   "execution_count": 125,
   "id": "9248e707",
   "metadata": {},
   "outputs": [
    {
     "data": {
      "text/plain": [
       "array([False, False, False, ..., False, False, False])"
      ]
     },
     "execution_count": 125,
     "metadata": {},
     "output_type": "execute_result"
    }
   ],
   "source": [
    "labels == 3"
   ]
  },
  {
   "cell_type": "code",
   "execution_count": 120,
   "id": "cb7ca8c6",
   "metadata": {},
   "outputs": [],
   "source": [
    "df = pd.DataFrame(data, columns=['text'])"
   ]
  },
  {
   "cell_type": "code",
   "execution_count": 121,
   "id": "430bae16",
   "metadata": {},
   "outputs": [
    {
     "name": "stdout",
     "output_type": "stream",
     "text": [
      "0: 1121\n",
      "1: 225\n",
      "2: 365\n",
      "3: 146\n",
      "4: 368\n"
     ]
    }
   ],
   "source": [
    "print('0:', len(df[labels == 0]))\n",
    "print('1:', len(df[labels == 1]))\n",
    "print('2:', len(df[labels == 2]))\n",
    "print('3:', len(df[labels == 3]))\n",
    "print('4:', len(df[labels == 4]))"
   ]
  },
  {
   "cell_type": "code",
   "execution_count": 98,
   "id": "96594938",
   "metadata": {},
   "outputs": [],
   "source": [
    "from nltk import FreqDist\n",
    "from nltk.corpus import stopwords"
   ]
  },
  {
   "cell_type": "code",
   "execution_count": 99,
   "id": "65ca86de",
   "metadata": {},
   "outputs": [
    {
     "data": {
      "text/plain": [
       "[('said', 373),\n",
       " ('first', 356),\n",
       " ('england', 344),\n",
       " ('win', 308),\n",
       " ('last', 306),\n",
       " ('game', 302),\n",
       " ('world', 292),\n",
       " ('two', 275),\n",
       " ('one', 264),\n",
       " ('would', 251)]"
      ]
     },
     "execution_count": 99,
     "metadata": {},
     "output_type": "execute_result"
    }
   ],
   "source": [
    "two = df[labels == 2]['text']\n",
    "two_data = list(two.values)\n",
    "words = []\n",
    "for sent in two_data:\n",
    "    words.extend(sent.split())\n",
    "\n",
    "words = [word for word in words \n",
    "         if word not in stopwords.words('english')\n",
    "        and word.isalpha()]\n",
    "\n",
    "freq = FreqDist(words)\n",
    "freq.most_common(10)"
   ]
  },
  {
   "cell_type": "code",
   "execution_count": 100,
   "id": "4a545dbe",
   "metadata": {},
   "outputs": [
    {
     "data": {
      "text/plain": [
       "[('said', 2550),\n",
       " ('mr', 1237),\n",
       " ('would', 1202),\n",
       " ('us', 1137),\n",
       " ('also', 1015),\n",
       " ('new', 920),\n",
       " ('year', 792),\n",
       " ('one', 769),\n",
       " ('people', 728),\n",
       " ('last', 704)]"
      ]
     },
     "execution_count": 100,
     "metadata": {},
     "output_type": "execute_result"
    }
   ],
   "source": [
    "two = df[labels == 0]['text']\n",
    "two_data = list(two.values)\n",
    "words = []\n",
    "for sent in two_data:\n",
    "    words.extend(sent.split())\n",
    "\n",
    "words = [word for word in words \n",
    "         if word not in stopwords.words('english')\n",
    "        and word.isalpha()]\n",
    "\n",
    "freq = FreqDist(words)\n",
    "freq.most_common(10)"
   ]
  },
  {
   "cell_type": "code",
   "execution_count": 101,
   "id": "01e54e63",
   "metadata": {},
   "outputs": [
    {
     "data": {
      "text/plain": [
       "[('mr', 1244),\n",
       " ('said', 851),\n",
       " ('would', 630),\n",
       " ('labour', 603),\n",
       " ('blair', 449),\n",
       " ('party', 400),\n",
       " ('election', 370),\n",
       " ('government', 330),\n",
       " ('brown', 312),\n",
       " ('people', 294)]"
      ]
     },
     "execution_count": 101,
     "metadata": {},
     "output_type": "execute_result"
    }
   ],
   "source": [
    "two = df[labels == 1]['text']\n",
    "two_data = list(two.values)\n",
    "words = []\n",
    "for sent in two_data:\n",
    "    words.extend(sent.split())\n",
    "\n",
    "words = [word for word in words \n",
    "         if word not in stopwords.words('english')\n",
    "        and word.isalpha()]\n",
    "\n",
    "freq = FreqDist(words)\n",
    "freq.most_common(10)"
   ]
  },
  {
   "cell_type": "code",
   "execution_count": 102,
   "id": "9d80fe11",
   "metadata": {},
   "outputs": [
    {
     "data": {
      "text/plain": [
       "[('film', 555),\n",
       " ('best', 385),\n",
       " ('director', 162),\n",
       " ('said', 162),\n",
       " ('also', 151),\n",
       " ('awards', 151),\n",
       " ('award', 139),\n",
       " ('year', 138),\n",
       " ('films', 130),\n",
       " ('actor', 126)]"
      ]
     },
     "execution_count": 102,
     "metadata": {},
     "output_type": "execute_result"
    }
   ],
   "source": [
    "two = df[labels == 3]['text']\n",
    "two_data = list(two.values)\n",
    "words = []\n",
    "for sent in two_data:\n",
    "    words.extend(sent.split())\n",
    "\n",
    "words = [word for word in words \n",
    "         if word not in stopwords.words('english')\n",
    "        and word.isalpha()]\n",
    "\n",
    "freq = FreqDist(words)\n",
    "freq.most_common(10)"
   ]
  },
  {
   "cell_type": "code",
   "execution_count": 103,
   "id": "e4c04eef",
   "metadata": {},
   "outputs": [
    {
     "data": {
      "text/plain": [
       "[('said', 1136),\n",
       " ('people', 828),\n",
       " ('also', 492),\n",
       " ('new', 480),\n",
       " ('mobile', 446),\n",
       " ('mr', 443),\n",
       " ('would', 429),\n",
       " ('technology', 416),\n",
       " ('could', 410),\n",
       " ('one', 403)]"
      ]
     },
     "execution_count": 103,
     "metadata": {},
     "output_type": "execute_result"
    }
   ],
   "source": [
    "two = df[labels == 4]['text']\n",
    "two_data = list(two.values)\n",
    "words = []\n",
    "for sent in two_data:\n",
    "    words.extend(sent.split())\n",
    "\n",
    "words = [word for word in words \n",
    "         if word not in stopwords.words('english')\n",
    "        and word.isalpha()]\n",
    "\n",
    "freq = FreqDist(words)\n",
    "freq.most_common(10)"
   ]
  },
  {
   "cell_type": "code",
   "execution_count": null,
   "id": "31e197ab",
   "metadata": {},
   "outputs": [],
   "source": []
  }
 ],
 "metadata": {
  "kernelspec": {
   "display_name": "Python 3",
   "language": "python",
   "name": "python3"
  },
  "language_info": {
   "codemirror_mode": {
    "name": "ipython",
    "version": 3
   },
   "file_extension": ".py",
   "mimetype": "text/x-python",
   "name": "python",
   "nbconvert_exporter": "python",
   "pygments_lexer": "ipython3",
   "version": "3.8.10"
  }
 },
 "nbformat": 4,
 "nbformat_minor": 5
}
