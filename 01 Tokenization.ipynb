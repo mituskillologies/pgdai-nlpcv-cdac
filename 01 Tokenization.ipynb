{
 "cells": [
  {
   "cell_type": "code",
   "execution_count": 1,
   "id": "a09307e1",
   "metadata": {},
   "outputs": [],
   "source": [
    "sent = 'They told that their ages are 25 26 and 31 respectively.'"
   ]
  },
  {
   "cell_type": "code",
   "execution_count": 2,
   "id": "e63b7140",
   "metadata": {},
   "outputs": [],
   "source": [
    "# Find the average of ages mentioned in the statement"
   ]
  },
  {
   "cell_type": "code",
   "execution_count": 4,
   "id": "f484bfaa",
   "metadata": {},
   "outputs": [
    {
     "data": {
      "text/plain": [
       "[25, 26, 31]"
      ]
     },
     "execution_count": 4,
     "metadata": {},
     "output_type": "execute_result"
    }
   ],
   "source": [
    "words = sent.split()\n",
    "ages = []\n",
    "for word in words:\n",
    "    if word.isdigit():\n",
    "        ages.append(int(word))\n",
    "ages"
   ]
  },
  {
   "cell_type": "code",
   "execution_count": 5,
   "id": "d0403888",
   "metadata": {},
   "outputs": [
    {
     "data": {
      "text/plain": [
       "27.333333333333332"
      ]
     },
     "execution_count": 5,
     "metadata": {},
     "output_type": "execute_result"
    }
   ],
   "source": [
    "sum(ages)/len(ages)"
   ]
  },
  {
   "cell_type": "code",
   "execution_count": 8,
   "id": "97e96c4b",
   "metadata": {},
   "outputs": [
    {
     "data": {
      "text/plain": [
       "27.333333333333332"
      ]
     },
     "execution_count": 8,
     "metadata": {},
     "output_type": "execute_result"
    }
   ],
   "source": [
    "ages = [int(word) for word in sent.split() if word.isdigit()]\n",
    "sum(ages)/len(ages)"
   ]
  },
  {
   "cell_type": "code",
   "execution_count": 10,
   "id": "d777047c",
   "metadata": {},
   "outputs": [],
   "source": [
    "sents = '''Hello friends!\n",
    "How are you? Welcome to Python Programming.'''"
   ]
  },
  {
   "cell_type": "code",
   "execution_count": 11,
   "id": "bb74ac9f",
   "metadata": {},
   "outputs": [],
   "source": [
    "# Find how many sentences are there in it?"
   ]
  },
  {
   "cell_type": "code",
   "execution_count": 12,
   "id": "9fbcbda3",
   "metadata": {},
   "outputs": [
    {
     "data": {
      "text/plain": [
       "3"
      ]
     },
     "execution_count": 12,
     "metadata": {},
     "output_type": "execute_result"
    }
   ],
   "source": [
    "count = 0\n",
    "for char in sents:\n",
    "    if char in ['!','?','.']:\n",
    "        count += 1\n",
    "count"
   ]
  },
  {
   "cell_type": "code",
   "execution_count": 24,
   "id": "d6d11925",
   "metadata": {},
   "outputs": [],
   "source": [
    "sents = '''hello friends!\n",
    "how are you? welcome to Python Programming.'''"
   ]
  },
  {
   "cell_type": "code",
   "execution_count": 21,
   "id": "17894525",
   "metadata": {},
   "outputs": [
    {
     "data": {
      "text/plain": [
       "3"
      ]
     },
     "execution_count": 21,
     "metadata": {},
     "output_type": "execute_result"
    }
   ],
   "source": [
    "count = 0\n",
    "for char in sents:\n",
    "    if char in ['!','?','.']:\n",
    "        count += 1\n",
    "count"
   ]
  },
  {
   "cell_type": "markdown",
   "id": "7fad3144",
   "metadata": {},
   "source": [
    "#### NLTK"
   ]
  },
  {
   "cell_type": "code",
   "execution_count": 32,
   "id": "47602f82",
   "metadata": {},
   "outputs": [],
   "source": [
    "import nltk"
   ]
  },
  {
   "cell_type": "code",
   "execution_count": 33,
   "id": "a0a6cdcb",
   "metadata": {},
   "outputs": [
    {
     "name": "stdout",
     "output_type": "stream",
     "text": [
      "showing info https://raw.githubusercontent.com/nltk/nltk_data/gh-pages/index.xml\n"
     ]
    },
    {
     "data": {
      "text/plain": [
       "True"
      ]
     },
     "execution_count": 33,
     "metadata": {},
     "output_type": "execute_result"
    }
   ],
   "source": [
    "nltk.download()"
   ]
  },
  {
   "cell_type": "code",
   "execution_count": 34,
   "id": "47c0e09d",
   "metadata": {},
   "outputs": [
    {
     "name": "stderr",
     "output_type": "stream",
     "text": [
      "[nltk_data] Downloading package stopwords to /home/mitu/nltk_data...\n",
      "[nltk_data] Error downloading 'stopwords' from\n",
      "[nltk_data]     <https://raw.githubusercontent.com/nltk/nltk_data/gh-\n",
      "[nltk_data]     pages/packages/corpora/stopwords.zip>:   <urlopen\n",
      "[nltk_data]     error [Errno 104] Connection reset by peer>\n",
      "[nltk_data] Downloading package averaged_perceptron_tagger to\n",
      "[nltk_data]     /home/mitu/nltk_data...\n",
      "[nltk_data]   Package averaged_perceptron_tagger is already up-to-\n",
      "[nltk_data]       date!\n",
      "[nltk_data] Downloading package wordnet to /home/mitu/nltk_data...\n",
      "[nltk_data]   Package wordnet is already up-to-date!\n",
      "[nltk_data] Downloading package omw-1.4 to /home/mitu/nltk_data...\n",
      "[nltk_data]   Package omw-1.4 is already up-to-date!\n",
      "[nltk_data] Downloading package indian to /home/mitu/nltk_data...\n",
      "[nltk_data]   Unzipping corpora/indian.zip.\n",
      "[nltk_data] Downloading package maxent_ne_chunker to\n",
      "[nltk_data]     /home/mitu/nltk_data...\n",
      "[nltk_data]   Package maxent_ne_chunker is already up-to-date!\n",
      "[nltk_data] Downloading package punkt to /home/mitu/nltk_data...\n",
      "[nltk_data]   Package punkt is already up-to-date!\n",
      "[nltk_data] Downloading package words to /home/mitu/nltk_data...\n",
      "[nltk_data]   Package words is already up-to-date!\n"
     ]
    },
    {
     "data": {
      "text/plain": [
       "True"
      ]
     },
     "execution_count": 34,
     "metadata": {},
     "output_type": "execute_result"
    }
   ],
   "source": [
    "nltk.download('stopwords')\n",
    "nltk.download('averaged_perceptron_tagger')\n",
    "nltk.download('wordnet')\n",
    "nltk.download('omw-1.4')\n",
    "nltk.download('indian')\n",
    "nltk.download('maxent_ne_chunker')\n",
    "nltk.download('punkt')\n",
    "nltk.download('words')"
   ]
  },
  {
   "cell_type": "markdown",
   "id": "d30416e6",
   "metadata": {},
   "source": [
    "#### Sentence Tokenizer"
   ]
  },
  {
   "cell_type": "code",
   "execution_count": 36,
   "id": "56df0365",
   "metadata": {},
   "outputs": [],
   "source": [
    "sents = '''Hello friends!\n",
    "How are you? Welcome to Python Programming.'''"
   ]
  },
  {
   "cell_type": "code",
   "execution_count": 37,
   "id": "73e69a96",
   "metadata": {},
   "outputs": [],
   "source": [
    "from nltk.tokenize import sent_tokenize"
   ]
  },
  {
   "cell_type": "code",
   "execution_count": 38,
   "id": "1cef1cdc",
   "metadata": {},
   "outputs": [],
   "source": [
    "sent_list = sent_tokenize(sents)"
   ]
  },
  {
   "cell_type": "code",
   "execution_count": 39,
   "id": "fc0a58ff",
   "metadata": {},
   "outputs": [
    {
     "data": {
      "text/plain": [
       "['Hello friends!', 'How are you?', 'Welcome to Python Programming.']"
      ]
     },
     "execution_count": 39,
     "metadata": {},
     "output_type": "execute_result"
    }
   ],
   "source": [
    "sent_list"
   ]
  },
  {
   "cell_type": "markdown",
   "id": "2aca9a32",
   "metadata": {},
   "source": [
    "#### word tokenizer"
   ]
  },
  {
   "cell_type": "code",
   "execution_count": 41,
   "id": "7c354d47",
   "metadata": {},
   "outputs": [],
   "source": [
    "from nltk.tokenize import word_tokenize"
   ]
  },
  {
   "cell_type": "code",
   "execution_count": 42,
   "id": "42563709",
   "metadata": {},
   "outputs": [],
   "source": [
    "words = word_tokenize(sents)"
   ]
  },
  {
   "cell_type": "code",
   "execution_count": 43,
   "id": "db13aa48",
   "metadata": {},
   "outputs": [
    {
     "data": {
      "text/plain": [
       "['Hello',\n",
       " 'friends',\n",
       " '!',\n",
       " 'How',\n",
       " 'are',\n",
       " 'you',\n",
       " '?',\n",
       " 'Welcome',\n",
       " 'to',\n",
       " 'Python',\n",
       " 'Programming',\n",
       " '.']"
      ]
     },
     "execution_count": 43,
     "metadata": {},
     "output_type": "execute_result"
    }
   ],
   "source": [
    "words"
   ]
  },
  {
   "cell_type": "code",
   "execution_count": 44,
   "id": "bdf1e049",
   "metadata": {},
   "outputs": [],
   "source": [
    "import string"
   ]
  },
  {
   "cell_type": "code",
   "execution_count": 45,
   "id": "49e8b63a",
   "metadata": {},
   "outputs": [
    {
     "data": {
      "text/plain": [
       "'!\"#$%&\\'()*+,-./:;<=>?@[\\\\]^_`{|}~'"
      ]
     },
     "execution_count": 45,
     "metadata": {},
     "output_type": "execute_result"
    }
   ],
   "source": [
    "string.punctuation"
   ]
  },
  {
   "cell_type": "code",
   "execution_count": 46,
   "id": "9b43aa56",
   "metadata": {},
   "outputs": [],
   "source": [
    "# Find percentage of punctuation symbols"
   ]
  },
  {
   "cell_type": "code",
   "execution_count": 49,
   "id": "8a633a84",
   "metadata": {},
   "outputs": [
    {
     "data": {
      "text/plain": [
       "0.25"
      ]
     },
     "execution_count": 49,
     "metadata": {},
     "output_type": "execute_result"
    }
   ],
   "source": [
    "puncts = [token for token in word_tokenize(sents) \n",
    "          if token in string.punctuation]\n",
    "len(puncts) / len(word_tokenize(sents))"
   ]
  },
  {
   "cell_type": "code",
   "execution_count": 48,
   "id": "0fc3b2ec",
   "metadata": {},
   "outputs": [
    {
     "data": {
      "text/plain": [
       "['!', '?', '.']"
      ]
     },
     "execution_count": 48,
     "metadata": {},
     "output_type": "execute_result"
    }
   ],
   "source": [
    "puncts"
   ]
  },
  {
   "cell_type": "code",
   "execution_count": 50,
   "id": "d23f0fe5",
   "metadata": {},
   "outputs": [
    {
     "data": {
      "text/plain": [
       "84"
      ]
     },
     "execution_count": 50,
     "metadata": {},
     "output_type": "execute_result"
    }
   ],
   "source": [
    "ord('T')"
   ]
  },
  {
   "cell_type": "code",
   "execution_count": 51,
   "id": "8c811030",
   "metadata": {},
   "outputs": [
    {
     "data": {
      "text/plain": [
       "32"
      ]
     },
     "execution_count": 51,
     "metadata": {},
     "output_type": "execute_result"
    }
   ],
   "source": [
    "ord(' ')"
   ]
  },
  {
   "cell_type": "code",
   "execution_count": 52,
   "id": "afd50e78",
   "metadata": {},
   "outputs": [
    {
     "data": {
      "text/plain": [
       "126"
      ]
     },
     "execution_count": 52,
     "metadata": {},
     "output_type": "execute_result"
    }
   ],
   "source": [
    "ord('~')"
   ]
  },
  {
   "cell_type": "code",
   "execution_count": 53,
   "id": "57b4f598",
   "metadata": {},
   "outputs": [
    {
     "data": {
      "text/plain": [
       "'h'"
      ]
     },
     "execution_count": 53,
     "metadata": {},
     "output_type": "execute_result"
    }
   ],
   "source": [
    "chr(104)"
   ]
  },
  {
   "cell_type": "code",
   "execution_count": 54,
   "id": "f79b030c",
   "metadata": {},
   "outputs": [
    {
     "data": {
      "text/plain": [
       "'½'"
      ]
     },
     "execution_count": 54,
     "metadata": {},
     "output_type": "execute_result"
    }
   ],
   "source": [
    "chr(189)"
   ]
  },
  {
   "cell_type": "code",
   "execution_count": 55,
   "id": "b62b025b",
   "metadata": {},
   "outputs": [
    {
     "data": {
      "text/plain": [
       "'4'"
      ]
     },
     "execution_count": 55,
     "metadata": {},
     "output_type": "execute_result"
    }
   ],
   "source": [
    "chr(0x34)"
   ]
  },
  {
   "cell_type": "code",
   "execution_count": 56,
   "id": "d9c835e1",
   "metadata": {},
   "outputs": [
    {
     "data": {
      "text/plain": [
       "'ÿ'"
      ]
     },
     "execution_count": 56,
     "metadata": {},
     "output_type": "execute_result"
    }
   ],
   "source": [
    "chr(0xff)"
   ]
  },
  {
   "cell_type": "code",
   "execution_count": 59,
   "id": "1d8ed93d",
   "metadata": {},
   "outputs": [
    {
     "data": {
      "text/plain": [
       "'क'"
      ]
     },
     "execution_count": 59,
     "metadata": {},
     "output_type": "execute_result"
    }
   ],
   "source": [
    "chr(0x0915)"
   ]
  },
  {
   "cell_type": "code",
   "execution_count": 63,
   "id": "686719a4",
   "metadata": {},
   "outputs": [
    {
     "data": {
      "text/plain": [
       "'कॅच'"
      ]
     },
     "execution_count": 63,
     "metadata": {},
     "output_type": "execute_result"
    }
   ],
   "source": [
    "'\\u0915\\u0945\\u091A'"
   ]
  },
  {
   "cell_type": "code",
   "execution_count": 64,
   "id": "69266d90",
   "metadata": {},
   "outputs": [],
   "source": [
    "names = ['सुहास','मदन','साहिल','आदित्य']"
   ]
  },
  {
   "cell_type": "code",
   "execution_count": 65,
   "id": "9e16fe08",
   "metadata": {},
   "outputs": [
    {
     "data": {
      "text/plain": [
       "['सुहास', 'मदन', 'साहिल', 'आदित्य']"
      ]
     },
     "execution_count": 65,
     "metadata": {},
     "output_type": "execute_result"
    }
   ],
   "source": [
    "names"
   ]
  },
  {
   "cell_type": "code",
   "execution_count": 66,
   "id": "7c8b6078",
   "metadata": {},
   "outputs": [
    {
     "name": "stdout",
     "output_type": "stream",
     "text": [
      "सुहास\n",
      "साहिल\n"
     ]
    }
   ],
   "source": [
    "for name in names:\n",
    "    if name.startswith('स'):\n",
    "        print(name)"
   ]
  },
  {
   "cell_type": "code",
   "execution_count": 67,
   "id": "844fbf43",
   "metadata": {},
   "outputs": [
    {
     "name": "stdout",
     "output_type": "stream",
     "text": [
      "सुहास\n",
      "मदन\n",
      "साहील\n",
      "आदीत्य\n"
     ]
    }
   ],
   "source": [
    "for name in names:\n",
    "    print(name.replace('ि','ी'))"
   ]
  },
  {
   "cell_type": "code",
   "execution_count": 68,
   "id": "b2f33c28",
   "metadata": {},
   "outputs": [],
   "source": [
    "text = '''कर्नाटकाच्या पश्चिमेला अरबी समुद्र व गोवा हे राज्य आहे उत्तरेला महाराष्ट्र, पूर्वेला आंध्रप्रदेश आणि दक्षिणेला केरळ व तमिळनाडू ही राज्ये येतात. राज्याचे क्षेत्रफळ १,९१,९७६ चौरस किलोमीटर इतके आहे. ते भारताच्या एकूण क्षेत्रफळाच्या ५.८३% इतके आहे. कर्नाटक हे क्षेत्रफळानुसार भारतातले ८ वे मोठे राज्य आहे. लोकसंख्येच्या दृष्टीने त्याचा भारतात ९ वा क्रमांक आहे. कर्नाटक राज्यात २९ जिल्हे आहेत. कन्नड ही राज्याची मुख्य भाषा असून मराठी, कोकणी, तुळू व तामिळ ह्याही काही भाषा बोलल्या जातात.'''"
   ]
  },
  {
   "cell_type": "code",
   "execution_count": 70,
   "id": "648cdf88",
   "metadata": {},
   "outputs": [
    {
     "data": {
      "text/plain": [
       "2"
      ]
     },
     "execution_count": 70,
     "metadata": {},
     "output_type": "execute_result"
    }
   ],
   "source": [
    "word_tokenize(text).count('कर्नाटक')"
   ]
  },
  {
   "cell_type": "code",
   "execution_count": 71,
   "id": "a4375f8a",
   "metadata": {},
   "outputs": [
    {
     "data": {
      "text/plain": [
       "['कर्नाटकाच्या पश्चिमेला अरबी समुद्र व गोवा हे राज्य आहे उत्तरेला महाराष्ट्र, पूर्वेला आंध्रप्रदेश आणि दक्षिणेला केरळ व तमिळनाडू ही राज्ये येतात.',\n",
       " 'राज्याचे क्षेत्रफळ १,९१,९७६ चौरस किलोमीटर इतके आहे.',\n",
       " 'ते भारताच्या एकूण क्षेत्रफळाच्या ५.८३% इतके आहे.',\n",
       " 'कर्नाटक हे क्षेत्रफळानुसार भारतातले ८ वे मोठे राज्य आहे.',\n",
       " 'लोकसंख्येच्या दृष्टीने त्याचा भारतात ९ वा क्रमांक आहे.',\n",
       " 'कर्नाटक राज्यात २९ जिल्हे आहेत.',\n",
       " 'कन्नड ही राज्याची मुख्य भाषा असून मराठी, कोकणी, तुळू व तामिळ ह्याही काही भाषा बोलल्या जातात.']"
      ]
     },
     "execution_count": 71,
     "metadata": {},
     "output_type": "execute_result"
    }
   ],
   "source": [
    "sent_tokenize(text)"
   ]
  },
  {
   "cell_type": "markdown",
   "id": "6e9b525a",
   "metadata": {},
   "source": [
    "#### white-space tokenizer"
   ]
  },
  {
   "cell_type": "code",
   "execution_count": 73,
   "id": "73fce53d",
   "metadata": {},
   "outputs": [],
   "source": [
    "from nltk.tokenize import WhitespaceTokenizer"
   ]
  },
  {
   "cell_type": "code",
   "execution_count": 74,
   "id": "563fb716",
   "metadata": {},
   "outputs": [],
   "source": [
    "tk = WhitespaceTokenizer()"
   ]
  },
  {
   "cell_type": "code",
   "execution_count": 75,
   "id": "2e80b656",
   "metadata": {},
   "outputs": [
    {
     "data": {
      "text/plain": [
       "['Hello',\n",
       " 'friends!',\n",
       " 'How',\n",
       " 'are',\n",
       " 'you?',\n",
       " 'Welcome',\n",
       " 'to',\n",
       " 'Python',\n",
       " 'Programming.']"
      ]
     },
     "execution_count": 75,
     "metadata": {},
     "output_type": "execute_result"
    }
   ],
   "source": [
    "tk.tokenize(sents)"
   ]
  },
  {
   "cell_type": "markdown",
   "id": "6396e182",
   "metadata": {},
   "source": [
    "#### space tokenizer"
   ]
  },
  {
   "cell_type": "code",
   "execution_count": 77,
   "id": "9c321428",
   "metadata": {},
   "outputs": [],
   "source": [
    "from nltk.tokenize import SpaceTokenizer"
   ]
  },
  {
   "cell_type": "code",
   "execution_count": 78,
   "id": "a96564f7",
   "metadata": {},
   "outputs": [],
   "source": [
    "tk = SpaceTokenizer()"
   ]
  },
  {
   "cell_type": "code",
   "execution_count": 79,
   "id": "c08bf336",
   "metadata": {},
   "outputs": [
    {
     "data": {
      "text/plain": [
       "['Hello',\n",
       " 'friends!\\nHow',\n",
       " 'are',\n",
       " 'you?',\n",
       " 'Welcome',\n",
       " 'to',\n",
       " 'Python',\n",
       " 'Programming.']"
      ]
     },
     "execution_count": 79,
     "metadata": {},
     "output_type": "execute_result"
    }
   ],
   "source": [
    "tk.tokenize(sents)"
   ]
  },
  {
   "cell_type": "markdown",
   "id": "9fb51c5e",
   "metadata": {},
   "source": [
    "#### line tokenizer"
   ]
  },
  {
   "cell_type": "code",
   "execution_count": 81,
   "id": "1cb4b695",
   "metadata": {},
   "outputs": [],
   "source": [
    "from nltk.tokenize import LineTokenizer"
   ]
  },
  {
   "cell_type": "code",
   "execution_count": 82,
   "id": "5ec4f120",
   "metadata": {},
   "outputs": [],
   "source": [
    "tk = LineTokenizer()"
   ]
  },
  {
   "cell_type": "code",
   "execution_count": 83,
   "id": "408d9de9",
   "metadata": {},
   "outputs": [
    {
     "data": {
      "text/plain": [
       "['Hello friends!', 'How are you? Welcome to Python Programming.']"
      ]
     },
     "execution_count": 83,
     "metadata": {},
     "output_type": "execute_result"
    }
   ],
   "source": [
    "tk.tokenize(sents)"
   ]
  },
  {
   "cell_type": "markdown",
   "id": "798e761e",
   "metadata": {},
   "source": [
    "#### tab tokenizer"
   ]
  },
  {
   "cell_type": "code",
   "execution_count": 85,
   "id": "299d1e21",
   "metadata": {},
   "outputs": [],
   "source": [
    "sents = '''Hello friends!\n",
    "How are you? Welcome to\\tPython Programming.'''"
   ]
  },
  {
   "cell_type": "code",
   "execution_count": 86,
   "id": "8434b533",
   "metadata": {},
   "outputs": [
    {
     "name": "stdout",
     "output_type": "stream",
     "text": [
      "Hello friends!\n",
      "How are you? Welcome to\tPython Programming.\n"
     ]
    }
   ],
   "source": [
    "print(sents)"
   ]
  },
  {
   "cell_type": "code",
   "execution_count": 87,
   "id": "2ac7eab4",
   "metadata": {},
   "outputs": [
    {
     "data": {
      "text/plain": [
       "['Hello friends!\\nHow are you? Welcome to', 'Python Programming.']"
      ]
     },
     "execution_count": 87,
     "metadata": {},
     "output_type": "execute_result"
    }
   ],
   "source": [
    "from nltk.tokenize import TabTokenizer\n",
    "tk = TabTokenizer()\n",
    "tk.tokenize(sents)"
   ]
  },
  {
   "cell_type": "markdown",
   "id": "45905448",
   "metadata": {},
   "source": [
    "#### tweet tokenizer"
   ]
  },
  {
   "cell_type": "code",
   "execution_count": 90,
   "id": "a399a384",
   "metadata": {},
   "outputs": [],
   "source": [
    "from nltk.tokenize import TweetTokenizer"
   ]
  },
  {
   "cell_type": "code",
   "execution_count": 102,
   "id": "690e25a1",
   "metadata": {},
   "outputs": [],
   "source": [
    "sent = '''Hello friends!😀 :!\n",
    "How are you? Welcome to #python Programming👍\n",
    "Check my web: 🐼https://python.org'''"
   ]
  },
  {
   "cell_type": "code",
   "execution_count": 103,
   "id": "52386a05",
   "metadata": {},
   "outputs": [
    {
     "name": "stdout",
     "output_type": "stream",
     "text": [
      "Hello friends!😀 :!\n",
      "How are you? Welcome to #python Programming👍\n",
      "Check my web: 🐼https://python.org\n"
     ]
    }
   ],
   "source": [
    "print(sent)"
   ]
  },
  {
   "cell_type": "code",
   "execution_count": 104,
   "id": "eef342e9",
   "metadata": {},
   "outputs": [
    {
     "data": {
      "text/plain": [
       "['Hello',\n",
       " 'friends',\n",
       " '!',\n",
       " '😀',\n",
       " ':',\n",
       " '!',\n",
       " 'How',\n",
       " 'are',\n",
       " 'you',\n",
       " '?',\n",
       " 'Welcome',\n",
       " 'to',\n",
       " '#python',\n",
       " 'Programming',\n",
       " '👍',\n",
       " 'Check',\n",
       " 'my',\n",
       " 'web',\n",
       " ':',\n",
       " '🐼',\n",
       " 'https://python.org']"
      ]
     },
     "execution_count": 104,
     "metadata": {},
     "output_type": "execute_result"
    }
   ],
   "source": [
    "tk = TweetTokenizer()\n",
    "tk.tokenize(sent)"
   ]
  },
  {
   "cell_type": "code",
   "execution_count": 105,
   "id": "09652abc",
   "metadata": {},
   "outputs": [
    {
     "data": {
      "text/plain": [
       "['Hello',\n",
       " 'friends',\n",
       " '!',\n",
       " '😀',\n",
       " ':',\n",
       " '!',\n",
       " 'How',\n",
       " 'are',\n",
       " 'you',\n",
       " '?',\n",
       " 'Welcome',\n",
       " 'to',\n",
       " '#',\n",
       " 'python',\n",
       " 'Programming👍',\n",
       " 'Check',\n",
       " 'my',\n",
       " 'web',\n",
       " ':',\n",
       " '🐼https',\n",
       " ':',\n",
       " '//python.org']"
      ]
     },
     "execution_count": 105,
     "metadata": {},
     "output_type": "execute_result"
    }
   ],
   "source": [
    "word_tokenize(sent)"
   ]
  },
  {
   "cell_type": "markdown",
   "id": "a8caa64c",
   "metadata": {},
   "source": [
    "#### Multi-Word Expression Tokenizer"
   ]
  },
  {
   "cell_type": "code",
   "execution_count": 107,
   "id": "60a1a0e5",
   "metadata": {},
   "outputs": [],
   "source": [
    "from nltk.tokenize import MWETokenizer"
   ]
  },
  {
   "cell_type": "code",
   "execution_count": 108,
   "id": "4b7b2423",
   "metadata": {},
   "outputs": [],
   "source": [
    "sent = 'Van Rossom is in Pune today. We welcomed Van Rossom here.'"
   ]
  },
  {
   "cell_type": "code",
   "execution_count": 111,
   "id": "4028048b",
   "metadata": {},
   "outputs": [],
   "source": [
    "tk = MWETokenizer(separator=' ')\n",
    "tk.add_mwe(('Van','Rossom'))"
   ]
  },
  {
   "cell_type": "code",
   "execution_count": 112,
   "id": "a3adea8e",
   "metadata": {},
   "outputs": [
    {
     "data": {
      "text/plain": [
       "['Van Rossom',\n",
       " 'is',\n",
       " 'in',\n",
       " 'Pune',\n",
       " 'today',\n",
       " '.',\n",
       " 'We',\n",
       " 'welcomed',\n",
       " 'Van Rossom',\n",
       " 'here',\n",
       " '.']"
      ]
     },
     "execution_count": 112,
     "metadata": {},
     "output_type": "execute_result"
    }
   ],
   "source": [
    "tk.tokenize(word_tokenize(sent))"
   ]
  },
  {
   "cell_type": "markdown",
   "id": "53da1168",
   "metadata": {},
   "source": [
    "#### custom tokenizer"
   ]
  },
  {
   "cell_type": "code",
   "execution_count": 117,
   "id": "93cdb78c",
   "metadata": {},
   "outputs": [],
   "source": [
    "import re"
   ]
  },
  {
   "cell_type": "code",
   "execution_count": 123,
   "id": "ed2f7cd3",
   "metadata": {},
   "outputs": [],
   "source": [
    "def custom_tokenizer(text):\n",
    "    return re.split(r\"[.,;?!]+\", text)"
   ]
  },
  {
   "cell_type": "code",
   "execution_count": 124,
   "id": "811628da",
   "metadata": {},
   "outputs": [],
   "source": [
    "sents = '''Hello friends!\n",
    "How-are you? Wel.come to\\tPython Progra?mming.'''"
   ]
  },
  {
   "cell_type": "code",
   "execution_count": 125,
   "id": "ed0bfeea",
   "metadata": {},
   "outputs": [
    {
     "data": {
      "text/plain": [
       "['Hello friends',\n",
       " '\\nHow-are you',\n",
       " ' Wel',\n",
       " 'come to\\tPython Progra',\n",
       " 'mming',\n",
       " '']"
      ]
     },
     "execution_count": 125,
     "metadata": {},
     "output_type": "execute_result"
    }
   ],
   "source": [
    "custom_tokenizer(sents)"
   ]
  },
  {
   "cell_type": "code",
   "execution_count": 126,
   "id": "b8681b49",
   "metadata": {},
   "outputs": [],
   "source": [
    "# Link: https://mitu.co.in/dataset\n",
    "# File: student3.tsv"
   ]
  },
  {
   "cell_type": "code",
   "execution_count": 129,
   "id": "615e9ec6",
   "metadata": {},
   "outputs": [],
   "source": [
    "f = open('student3.tsv')"
   ]
  },
  {
   "cell_type": "code",
   "execution_count": 130,
   "id": "3c71d191",
   "metadata": {},
   "outputs": [],
   "source": [
    "data = f.read()"
   ]
  },
  {
   "cell_type": "code",
   "execution_count": 136,
   "id": "53e92cec",
   "metadata": {},
   "outputs": [],
   "source": [
    "lines = data.split('\\n')"
   ]
  },
  {
   "cell_type": "code",
   "execution_count": 143,
   "id": "e0d0011f",
   "metadata": {},
   "outputs": [
    {
     "name": "stdout",
     "output_type": "stream",
     "text": [
      "['roll', 'name', 'class', 'marks', 'age']\n",
      "['1', 'anil', 'TE', '56.77', '22']\n",
      "['2', 'amit', 'TE', '59.77', '21']\n",
      "['3', 'aniket', 'BE', '76.88', '19']\n",
      "['4', 'ajinkya', 'TE', '69.66', '20']\n",
      "['5', 'asha', 'TE', '63.28', '20']\n",
      "['6', 'ayesha', 'BE', '49.55', '20']\n",
      "['7', 'amar', 'BE', '65.34', '19']\n",
      "['8', 'amita', 'BE', '68.33', '23']\n",
      "['9', 'amol', 'TE', '56.75', '20']\n",
      "['10', 'anmol', 'BE', '78.66', '21']\n",
      "[]\n"
     ]
    }
   ],
   "source": [
    "flag = 1\n",
    "for line in lines:\n",
    "    words = line.split()\n",
    "    print(words)"
   ]
  },
  {
   "cell_type": "code",
   "execution_count": 135,
   "id": "9f3bcacb",
   "metadata": {},
   "outputs": [
    {
     "name": "stdout",
     "output_type": "stream",
     "text": [
      "['roll\\tname\\tclass\\tmarks\\tage', '1\\tanil\\tTE\\t56.77\\t22', '2\\tamit\\tTE\\t59.77\\t21', '3\\taniket\\tBE\\t76.88\\t19', '4\\tajinkya\\tTE\\t69.66\\t20', '5\\tasha\\tTE\\t63.28\\t20', '6\\tayesha\\tBE\\t49.55\\t20', '7\\tamar\\tBE\\t65.34\\t19', '8\\tamita\\tBE\\t68.33\\t23', '9\\tamol\\tTE\\t56.75\\t20', '10\\tanmol\\tBE\\t78.66\\t21', '']\n"
     ]
    }
   ],
   "source": [
    "with open('student3.tsv') as f:\n",
    "    data = f.read()\n",
    "    print(data.split('\\n'))"
   ]
  },
  {
   "cell_type": "code",
   "execution_count": null,
   "id": "783b626a",
   "metadata": {},
   "outputs": [],
   "source": []
  }
 ],
 "metadata": {
  "kernelspec": {
   "display_name": "Python 3",
   "language": "python",
   "name": "python3"
  },
  "language_info": {
   "codemirror_mode": {
    "name": "ipython",
    "version": 3
   },
   "file_extension": ".py",
   "mimetype": "text/x-python",
   "name": "python",
   "nbconvert_exporter": "python",
   "pygments_lexer": "ipython3",
   "version": "3.8.10"
  }
 },
 "nbformat": 4,
 "nbformat_minor": 5
}
