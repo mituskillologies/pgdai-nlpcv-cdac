{
 "cells": [
  {
   "cell_type": "code",
   "execution_count": null,
   "id": "6dd98ecd",
   "metadata": {},
   "outputs": [],
   "source": [
    "!pip install gtts playsound"
   ]
  },
  {
   "cell_type": "markdown",
   "id": "e4599d07",
   "metadata": {},
   "source": [
    "#### Import the library"
   ]
  },
  {
   "cell_type": "code",
   "execution_count": 1,
   "id": "33efc185",
   "metadata": {},
   "outputs": [],
   "source": [
    "from gtts import gTTS                  # class\n",
    "from playsound import playsound        # method"
   ]
  },
  {
   "cell_type": "markdown",
   "id": "a6d9634b",
   "metadata": {},
   "source": [
    "#### Create the object"
   ]
  },
  {
   "cell_type": "code",
   "execution_count": 12,
   "id": "a38626b9",
   "metadata": {},
   "outputs": [],
   "source": [
    "tts = gTTS(text='Hello friends, how are you?', \n",
    "           lang='en')"
   ]
  },
  {
   "cell_type": "markdown",
   "id": "a9a9c5d7",
   "metadata": {},
   "source": [
    "#### Save and Play the audio"
   ]
  },
  {
   "cell_type": "code",
   "execution_count": 11,
   "id": "2dcf6178",
   "metadata": {},
   "outputs": [],
   "source": [
    "tts.save('speech.mp3')\n",
    "playsound('speech.mp3')"
   ]
  },
  {
   "cell_type": "code",
   "execution_count": 17,
   "id": "f9ab89cd",
   "metadata": {},
   "outputs": [],
   "source": [
    "tts.save('speech.mp3')\n",
    "playsound('speech.mp3')"
   ]
  },
  {
   "cell_type": "code",
   "execution_count": 21,
   "id": "938c564a",
   "metadata": {},
   "outputs": [],
   "source": [
    "tts = gTTS(text='नमस्कार, तुमच्या सर्वांचं मितू स्किलॉलॉजिस तर्फे स्वागत आहे.', \n",
    "           lang='mr')"
   ]
  },
  {
   "cell_type": "code",
   "execution_count": 22,
   "id": "f91e786e",
   "metadata": {},
   "outputs": [
    {
     "data": {
      "text/plain": [
       "'mr'"
      ]
     },
     "execution_count": 22,
     "metadata": {},
     "output_type": "execute_result"
    }
   ],
   "source": [
    "tts.lang"
   ]
  },
  {
   "cell_type": "code",
   "execution_count": 23,
   "id": "90e5ff8a",
   "metadata": {},
   "outputs": [],
   "source": [
    "tts.save('speech.mp3')\n",
    "playsound('speech.mp3')"
   ]
  },
  {
   "cell_type": "code",
   "execution_count": 14,
   "id": "301c996a",
   "metadata": {},
   "outputs": [
    {
     "name": "stdout",
     "output_type": "stream",
     "text": [
      "Help on NoneType object:\n",
      "\n",
      "class NoneType(object)\n",
      " |  Methods defined here:\n",
      " |  \n",
      " |  __bool__(self, /)\n",
      " |      self != 0\n",
      " |  \n",
      " |  __repr__(self, /)\n",
      " |      Return repr(self).\n",
      " |  \n",
      " |  ----------------------------------------------------------------------\n",
      " |  Static methods defined here:\n",
      " |  \n",
      " |  __new__(*args, **kwargs) from builtins.type\n",
      " |      Create and return a new object.  See help(type) for accurate signature.\n",
      "\n"
     ]
    }
   ],
   "source": [
    "help(tts.speed)"
   ]
  },
  {
   "cell_type": "code",
   "execution_count": null,
   "id": "0513c15f",
   "metadata": {},
   "outputs": [],
   "source": []
  }
 ],
 "metadata": {
  "kernelspec": {
   "display_name": "Python 3",
   "language": "python",
   "name": "python3"
  },
  "language_info": {
   "codemirror_mode": {
    "name": "ipython",
    "version": 3
   },
   "file_extension": ".py",
   "mimetype": "text/x-python",
   "name": "python",
   "nbconvert_exporter": "python",
   "pygments_lexer": "ipython3",
   "version": "3.8.10"
  }
 },
 "nbformat": 4,
 "nbformat_minor": 5
}
