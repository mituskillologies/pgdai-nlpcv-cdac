{
 "cells": [
  {
   "cell_type": "code",
   "execution_count": 1,
   "id": "499e51ca",
   "metadata": {},
   "outputs": [],
   "source": [
    "from tkinter import *"
   ]
  },
  {
   "cell_type": "markdown",
   "id": "0f3530ff",
   "metadata": {},
   "source": [
    "#### Basic Window"
   ]
  },
  {
   "cell_type": "code",
   "execution_count": 2,
   "id": "7bd2e42f",
   "metadata": {},
   "outputs": [],
   "source": [
    "top = Tk()\n",
    "\n",
    "top.mainloop()"
   ]
  },
  {
   "cell_type": "markdown",
   "id": "eb696808",
   "metadata": {},
   "source": [
    "#### Title and size"
   ]
  },
  {
   "cell_type": "code",
   "execution_count": 5,
   "id": "d50bc9cc",
   "metadata": {},
   "outputs": [],
   "source": [
    "top = Tk()\n",
    "top.title('My first application')\n",
    "top.geometry('400x300')\n",
    "top.mainloop()"
   ]
  },
  {
   "cell_type": "markdown",
   "id": "d7ddcabd",
   "metadata": {},
   "source": [
    "#### Add the widgets"
   ]
  },
  {
   "cell_type": "code",
   "execution_count": 10,
   "id": "81066a13",
   "metadata": {},
   "outputs": [],
   "source": [
    "top = Tk()\n",
    "top.title('My first application')\n",
    "top.geometry('400x300')\n",
    "\n",
    "l = Label(top,text='Hello World')\n",
    "t = Entry(top)\n",
    "b = Button(top, text='Submit')\n",
    "\n",
    "l.pack()\n",
    "t.pack()\n",
    "b.pack()\n",
    "top.mainloop()"
   ]
  },
  {
   "cell_type": "markdown",
   "id": "e4c51d52",
   "metadata": {},
   "source": [
    "#### Event Handling"
   ]
  },
  {
   "cell_type": "code",
   "execution_count": 11,
   "id": "e16591c3",
   "metadata": {},
   "outputs": [
    {
     "name": "stdout",
     "output_type": "stream",
     "text": [
      "Square is: 529\n"
     ]
    }
   ],
   "source": [
    "top = Tk()\n",
    "top.title('My first application')\n",
    "top.geometry('400x300')\n",
    "\n",
    "def find():\n",
    "    n = num.get()\n",
    "    print('Square is:', n * n)\n",
    "\n",
    "num = IntVar()\n",
    "\n",
    "l = Label(top,text='Enter a number:')\n",
    "t = Entry(top, textvariable=num)\n",
    "b = Button(top, text='Find Square',command=find)\n",
    "\n",
    "l.pack()\n",
    "t.pack()\n",
    "b.pack()\n",
    "top.mainloop()"
   ]
  },
  {
   "cell_type": "code",
   "execution_count": 12,
   "id": "63afecf3",
   "metadata": {},
   "outputs": [],
   "source": [
    "top = Tk()\n",
    "top.title('My first application')\n",
    "top.geometry('400x300')\n",
    "\n",
    "def find():\n",
    "    n = num.get()\n",
    "    result = Label(text='Square is: %d' %(n * n))\n",
    "    result.pack()\n",
    "\n",
    "num = IntVar()\n",
    "\n",
    "l = Label(top,text='Enter a number:')\n",
    "t = Entry(top, textvariable=num)\n",
    "b = Button(top, text='Find Square',command=find)\n",
    "\n",
    "l.pack()\n",
    "t.pack()\n",
    "b.pack()\n",
    "top.mainloop()"
   ]
  },
  {
   "cell_type": "code",
   "execution_count": 14,
   "id": "9527aadb",
   "metadata": {},
   "outputs": [],
   "source": [
    "top = Tk()\n",
    "top.title('My first application')\n",
    "top.geometry('400x300')\n",
    "\n",
    "def find():\n",
    "    n = num.get()\n",
    "    result.config(text='Square is: %d' %(n * n))\n",
    "    \n",
    "num = IntVar()\n",
    "\n",
    "l = Label(top,text='Enter a number:')\n",
    "t = Entry(top, textvariable=num)\n",
    "b = Button(top, text='Find Square',command=find)\n",
    "result = Label(text='Square is:')\n",
    "    \n",
    "l.pack()\n",
    "t.pack()\n",
    "b.pack()\n",
    "result.pack()\n",
    "top.mainloop()"
   ]
  },
  {
   "cell_type": "markdown",
   "id": "3aaf8d8e",
   "metadata": {},
   "source": [
    "#### Event Binding"
   ]
  },
  {
   "cell_type": "code",
   "execution_count": 21,
   "id": "cdce4558",
   "metadata": {},
   "outputs": [],
   "source": [
    "top = Tk()\n",
    "top.title('My first application')\n",
    "top.geometry('400x300')\n",
    "\n",
    "def find(event):\n",
    "    n = num.get()\n",
    "    result.config(text='Square is: %d' %(n * n))\n",
    "    \n",
    "num = IntVar()\n",
    "\n",
    "l = Label(top,text='Enter a number:')\n",
    "t = Entry(top, textvariable=num)\n",
    "t.bind('<Return>', find)\n",
    "result = Label(text='Square is:')\n",
    "    \n",
    "l.place(x=50,y=30)\n",
    "t.place(x=50,y=60)\n",
    "result.place(x=50,y=90)\n",
    "top.mainloop()"
   ]
  },
  {
   "cell_type": "code",
   "execution_count": 25,
   "id": "e6e42f03",
   "metadata": {},
   "outputs": [],
   "source": [
    "top = Tk()\n",
    "top.title('My first application')\n",
    "top.geometry('400x300')\n",
    "\n",
    "def find(event):\n",
    "    n = num.get()\n",
    "    result.config(text='Square is: %d' %(n * n))\n",
    "    \n",
    "num = IntVar()\n",
    "\n",
    "Label(top,text='Enter a number:').place(x=50,y=30)\n",
    "t = Entry(top, textvariable=num)\n",
    "t.bind('<Return>', find)\n",
    "result = Label(text='Square is:')\n",
    "    \n",
    "t.place(x=50,y=60)\n",
    "result.place(x=50,y=90)\n",
    "top.mainloop()"
   ]
  },
  {
   "cell_type": "markdown",
   "id": "c9a1219e",
   "metadata": {},
   "source": [
    "#### Deploy the model"
   ]
  },
  {
   "cell_type": "code",
   "execution_count": 6,
   "id": "fd2175a9",
   "metadata": {},
   "outputs": [],
   "source": [
    "import joblib\n",
    "from nltk.stem import WordNetLemmatizer\n",
    "from nltk import pos_tag\n",
    "from nltk.tokenize import word_tokenize\n",
    "from nltk.corpus import stopwords\n",
    "wnl = WordNetLemmatizer()"
   ]
  },
  {
   "cell_type": "code",
   "execution_count": 7,
   "id": "2db3a7bb",
   "metadata": {},
   "outputs": [],
   "source": [
    "def clean_text(text):\n",
    "    tokens1 = word_tokenize(text)\n",
    "    tokens2 = [x.lower() for x in tokens1 \n",
    "               if x.isalpha() or x.isdigit()]\n",
    "    tokens3 = [x for x in tokens2 \n",
    "               if x not in stopwords.words('english')]\n",
    "    tokens4 = []\n",
    "    tags = pos_tag(tokens3)\n",
    "    for word in tags:\n",
    "        if word[1].startswith('N'):\n",
    "            tokens4.append(wnl.lemmatize(word[0], pos='n'))\n",
    "        if word[1].startswith('V'):\n",
    "            tokens4.append(wnl.lemmatize(word[0], pos='v'))\n",
    "        if word[1].startswith('R'):\n",
    "            tokens4.append(wnl.lemmatize(word[0], pos='r'))\n",
    "        if word[1].startswith('J'):\n",
    "            tokens4.append(wnl.lemmatize(word[0], pos='a'))\n",
    "    return tokens4"
   ]
  },
  {
   "cell_type": "code",
   "execution_count": 8,
   "id": "9f71f7fd",
   "metadata": {},
   "outputs": [],
   "source": [
    "classifier = joblib.load('model.bin')\n",
    "tfidf = joblib.load('vectorizer.bin')"
   ]
  },
  {
   "cell_type": "code",
   "execution_count": 15,
   "id": "d045f500",
   "metadata": {},
   "outputs": [],
   "source": [
    "top = Tk()\n",
    "\n",
    "def display(event):\n",
    "    global message\n",
    "    m1 = message.get()\n",
    "    m1 = tfidf.transform([m1])\n",
    "    result = classifier.predict(m1)[0]\n",
    "    if result == 'ham':\n",
    "        Label(text='NOT Spam Message').place(x=100, y=200)\n",
    "    else:\n",
    "        Label(text='SPAM Message!').place(x=100, y=200)\n",
    "\n",
    "message = StringVar()\n",
    "\n",
    "Label(top,text=\"Enter message:\").place(x=50, y=50)\n",
    "e = Entry(top, width=100, textvariable=message)\n",
    "e.place(x=200, y=50)\n",
    "e.bind('<Return>',display)\n",
    "\n",
    "top.title('SPAM Message Detector!')\n",
    "top.geometry('1200x300')\n",
    "top.mainloop()"
   ]
  },
  {
   "cell_type": "code",
   "execution_count": null,
   "id": "9c5bb957",
   "metadata": {},
   "outputs": [],
   "source": []
  }
 ],
 "metadata": {
  "kernelspec": {
   "display_name": "Python 3",
   "language": "python",
   "name": "python3"
  },
  "language_info": {
   "codemirror_mode": {
    "name": "ipython",
    "version": 3
   },
   "file_extension": ".py",
   "mimetype": "text/x-python",
   "name": "python",
   "nbconvert_exporter": "python",
   "pygments_lexer": "ipython3",
   "version": "3.8.10"
  }
 },
 "nbformat": 4,
 "nbformat_minor": 5
}
