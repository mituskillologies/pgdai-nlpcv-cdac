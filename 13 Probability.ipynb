{
 "cells": [
  {
   "cell_type": "code",
   "execution_count": 4,
   "id": "95794eab",
   "metadata": {},
   "outputs": [],
   "source": [
    "import numpy as np\n",
    "from collections import Counter"
   ]
  },
  {
   "cell_type": "code",
   "execution_count": 9,
   "id": "244cad40",
   "metadata": {},
   "outputs": [
    {
     "name": "stdout",
     "output_type": "stream",
     "text": [
      "Theoretical probability of heads: 0.5\n",
      "Experimental probability of heads: 0.44\n"
     ]
    }
   ],
   "source": [
    "# Probability of heads\n",
    "p_heads = 1/2\n",
    "\n",
    "# Simulate 100 coin tosses\n",
    "tosses = [np.random.randint(0, 2) for _ in range(100)]\n",
    "\n",
    "# Count the number of heads\n",
    "heads = sum(tosses)\n",
    "\n",
    "# Calculate the experimental probability of heads\n",
    "p_heads_exp = heads / len(tosses)\n",
    "\n",
    "print(\"Theoretical probability of heads:\",p_heads)\n",
    "print(\"Experimental probability of heads:\",p_heads_exp)"
   ]
  },
  {
   "cell_type": "code",
   "execution_count": 14,
   "id": "91be2367",
   "metadata": {},
   "outputs": [
    {
     "name": "stdout",
     "output_type": "stream",
     "text": [
      "Theoretical probability of rolling a 6: 0.16666666666666666\n",
      "Experimental probability of rolling a 6: 0.184\n"
     ]
    }
   ],
   "source": [
    "# Number of sides on the die\n",
    "n_sides = 6\n",
    "\n",
    "# Simulate 1000 die rolls\n",
    "rolls = [np.random.randint(1, 7) for _ in range(1000)]\n",
    "\n",
    "# Count the frequency of each outcome\n",
    "counts = Counter(rolls)\n",
    "\n",
    "# Calculate the theoretical probability of rolling a 6\n",
    "p_6 = 1 / n_sides\n",
    "\n",
    "# Calculate the experimental probability of rolling a 6\n",
    "p_6_exp = counts[6] / len(rolls)\n",
    "\n",
    "print(\"Theoretical probability of rolling a 6:\",p_6)\n",
    "print(\"Experimental probability of rolling a 6:\",p_6_exp)"
   ]
  },
  {
   "cell_type": "code",
   "execution_count": 15,
   "id": "4dc5f625",
   "metadata": {},
   "outputs": [
    {
     "data": {
      "text/plain": [
       "Counter({5: 185, 6: 184, 2: 153, 3: 160, 1: 160, 4: 158})"
      ]
     },
     "execution_count": 15,
     "metadata": {},
     "output_type": "execute_result"
    }
   ],
   "source": [
    "counts"
   ]
  },
  {
   "cell_type": "code",
   "execution_count": 16,
   "id": "424c8ce7",
   "metadata": {},
   "outputs": [],
   "source": [
    "x = np.arange(-5, 5, 0.25)"
   ]
  },
  {
   "cell_type": "code",
   "execution_count": 17,
   "id": "435613bd",
   "metadata": {},
   "outputs": [
    {
     "data": {
      "text/plain": [
       "array([-5.  , -4.75, -4.5 , -4.25, -4.  , -3.75, -3.5 , -3.25, -3.  ,\n",
       "       -2.75, -2.5 , -2.25, -2.  , -1.75, -1.5 , -1.25, -1.  , -0.75,\n",
       "       -0.5 , -0.25,  0.  ,  0.25,  0.5 ,  0.75,  1.  ,  1.25,  1.5 ,\n",
       "        1.75,  2.  ,  2.25,  2.5 ,  2.75,  3.  ,  3.25,  3.5 ,  3.75,\n",
       "        4.  ,  4.25,  4.5 ,  4.75])"
      ]
     },
     "execution_count": 17,
     "metadata": {},
     "output_type": "execute_result"
    }
   ],
   "source": [
    "x"
   ]
  },
  {
   "cell_type": "code",
   "execution_count": 18,
   "id": "760d1e11",
   "metadata": {},
   "outputs": [],
   "source": [
    "y = x * 3.47 + 12.056"
   ]
  },
  {
   "cell_type": "code",
   "execution_count": 19,
   "id": "c508cd5c",
   "metadata": {},
   "outputs": [
    {
     "data": {
      "text/plain": [
       "array([-5.294 , -4.4265, -3.559 , -2.6915, -1.824 , -0.9565, -0.089 ,\n",
       "        0.7785,  1.646 ,  2.5135,  3.381 ,  4.2485,  5.116 ,  5.9835,\n",
       "        6.851 ,  7.7185,  8.586 ,  9.4535, 10.321 , 11.1885, 12.056 ,\n",
       "       12.9235, 13.791 , 14.6585, 15.526 , 16.3935, 17.261 , 18.1285,\n",
       "       18.996 , 19.8635, 20.731 , 21.5985, 22.466 , 23.3335, 24.201 ,\n",
       "       25.0685, 25.936 , 26.8035, 27.671 , 28.5385])"
      ]
     },
     "execution_count": 19,
     "metadata": {},
     "output_type": "execute_result"
    }
   ],
   "source": [
    "y"
   ]
  },
  {
   "cell_type": "code",
   "execution_count": 20,
   "id": "d800f75f",
   "metadata": {},
   "outputs": [],
   "source": [
    "import matplotlib.pyplot as  plt"
   ]
  },
  {
   "cell_type": "code",
   "execution_count": 21,
   "id": "6cbcb7d8",
   "metadata": {},
   "outputs": [
    {
     "data": {
      "text/plain": [
       "[<matplotlib.lines.Line2D at 0x7f83a8441940>]"
      ]
     },
     "execution_count": 21,
     "metadata": {},
     "output_type": "execute_result"
    },
    {
     "data": {
      "image/png": "[encoded data removed]",
      "text/plain": [
       "<Figure size 432x288 with 1 Axes>"
      ]
     },
     "metadata": {
      "needs_background": "light"
     },
     "output_type": "display_data"
    }
   ],
   "source": [
    "plt.plot(x, y)"
   ]
  },
  {
   "cell_type": "code",
   "execution_count": 25,
   "id": "e744e21b",
   "metadata": {},
   "outputs": [],
   "source": [
    "x = np.arange(0,10,0.25)"
   ]
  },
  {
   "cell_type": "code",
   "execution_count": 28,
   "id": "8a2418c9",
   "metadata": {},
   "outputs": [],
   "source": [
    "y = x ** 3 + 45.8939093"
   ]
  },
  {
   "cell_type": "code",
   "execution_count": 29,
   "id": "712d8511",
   "metadata": {},
   "outputs": [
    {
     "data": {
      "text/plain": [
       "[<matplotlib.lines.Line2D at 0x7f83a55a2820>]"
      ]
     },
     "execution_count": 29,
     "metadata": {},
     "output_type": "execute_result"
    },
    {
     "data": {
      "image/png": "[encoded data removed]",
      "text/plain": [
       "<Figure size 432x288 with 1 Axes>"
      ]
     },
     "metadata": {
      "needs_background": "light"
     },
     "output_type": "display_data"
    }
   ],
   "source": [
    "plt.plot(x, y)"
   ]
  },
  {
   "cell_type": "code",
   "execution_count": 32,
   "id": "b778fd26",
   "metadata": {},
   "outputs": [],
   "source": [
    "x = np.arange(1,10,0.25)"
   ]
  },
  {
   "cell_type": "code",
   "execution_count": 33,
   "id": "c005518c",
   "metadata": {},
   "outputs": [],
   "source": [
    "y = np.log(x)"
   ]
  },
  {
   "cell_type": "code",
   "execution_count": 35,
   "id": "344f4769",
   "metadata": {},
   "outputs": [
    {
     "data": {
      "text/plain": [
       "[<matplotlib.lines.Line2D at 0x7f83a54a30d0>]"
      ]
     },
     "execution_count": 35,
     "metadata": {},
     "output_type": "execute_result"
    },
    {
     "data": {
      "image/png": "[encoded data removed]",
      "text/plain": [
       "<Figure size 432x288 with 1 Axes>"
      ]
     },
     "metadata": {
      "needs_background": "light"
     },
     "output_type": "display_data"
    }
   ],
   "source": [
    "plt.plot(x, y)"
   ]
  },
  {
   "cell_type": "code",
   "execution_count": 42,
   "id": "03f3569a",
   "metadata": {},
   "outputs": [],
   "source": [
    "def sigmoid(z):\n",
    "    val = 1 / (1 + np.exp(-z))\n",
    "    return val"
   ]
  },
  {
   "cell_type": "code",
   "execution_count": 43,
   "id": "ecb23031",
   "metadata": {},
   "outputs": [],
   "source": [
    "x = np.arange(-10,10,0.25)"
   ]
  },
  {
   "cell_type": "code",
   "execution_count": 44,
   "id": "93c24ea1",
   "metadata": {},
   "outputs": [
    {
     "data": {
      "text/plain": [
       "[<matplotlib.lines.Line2D at 0x7f83a50c13d0>]"
      ]
     },
     "execution_count": 44,
     "metadata": {},
     "output_type": "execute_result"
    },
    {
     "data": {
      "image/png": "[encoded data removed]",
      "text/plain": [
       "<Figure size 432x288 with 1 Axes>"
      ]
     },
     "metadata": {
      "needs_background": "light"
     },
     "output_type": "display_data"
    }
   ],
   "source": [
    "plt.plot(x, sigmoid(x))"
   ]
  },
  {
   "cell_type": "markdown",
   "id": "d1a5d66e",
   "metadata": {},
   "source": [
    "#### Markov Model"
   ]
  },
  {
   "cell_type": "code",
   "execution_count": 76,
   "id": "f9bae1c2",
   "metadata": {},
   "outputs": [],
   "source": [
    "import random\n",
    "\n",
    "# Define states\n",
    "states = [\"Sunny\", \"Rainy\"]\n",
    "\n",
    "# Define transition matrix\n",
    "transition_matrix = [\n",
    "    [0.75, 0.25],\n",
    "    [0.15, 0.85]\n",
    "]\n",
    "# Define initial state\n",
    "initial_state = \"Sunny\""
   ]
  },
  {
   "cell_type": "code",
   "execution_count": 77,
   "id": "096a1381",
   "metadata": {},
   "outputs": [
    {
     "name": "stdout",
     "output_type": "stream",
     "text": [
      "Weather sequence: ['Sunny', 'Sunny', 'Sunny', 'Sunny', 'Rainy', 'Rainy', 'Rainy', 'Rainy', 'Rainy', 'Sunny', 'Rainy', 'Rainy', 'Rainy', 'Rainy', 'Rainy', 'Rainy', 'Sunny', 'Sunny', 'Rainy', 'Sunny', 'Sunny']\n"
     ]
    }
   ],
   "source": [
    "# Number of steps to simulate\n",
    "num_steps = 20\n",
    "\n",
    "# Generate weather sequence\n",
    "weather_sequence = [initial_state]\n",
    "for _ in range(num_steps):\n",
    "    current_state = weather_sequence[-1]\n",
    "    next_state_index = random.choices(\n",
    "        range(len(states)), \n",
    "        weights=transition_matrix[states.index(current_state)])[0]\n",
    "    next_state = states[next_state_index]\n",
    "    weather_sequence.append(next_state)\n",
    "\n",
    "# Print the generated weather sequence\n",
    "print(\"Weather sequence:\", weather_sequence)"
   ]
  },
  {
   "cell_type": "code",
   "execution_count": null,
   "id": "ff8e45d6",
   "metadata": {},
   "outputs": [],
   "source": []
  },
  {
   "cell_type": "code",
   "execution_count": null,
   "id": "acaa3253",
   "metadata": {},
   "outputs": [],
   "source": []
  }
 ],
 "metadata": {
  "kernelspec": {
   "display_name": "Python 3",
   "language": "python",
   "name": "python3"
  },
  "language_info": {
   "codemirror_mode": {
    "name": "ipython",
    "version": 3
   },
   "file_extension": ".py",
   "mimetype": "text/x-python",
   "name": "python",
   "nbconvert_exporter": "python",
   "pygments_lexer": "ipython3",
   "version": "3.8.10"
  }
 },
 "nbformat": 4,
 "nbformat_minor": 5
}
