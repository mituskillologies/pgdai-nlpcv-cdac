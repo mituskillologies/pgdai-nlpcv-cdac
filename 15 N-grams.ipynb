{
 "cells": [
  {
   "cell_type": "code",
   "execution_count": 1,
   "id": "81452f68",
   "metadata": {},
   "outputs": [],
   "source": [
    "sentence_1=\"The quick brown fox jumps over the lazy dog.\"\n",
    "sentence_2=\"The cat chases the mouse and it squeaks loudly.\""
   ]
  },
  {
   "cell_type": "code",
   "execution_count": 2,
   "id": "b068dad6",
   "metadata": {},
   "outputs": [],
   "source": [
    "from sklearn.feature_extraction.text import CountVectorizer"
   ]
  },
  {
   "cell_type": "code",
   "execution_count": 7,
   "id": "719e6f55",
   "metadata": {},
   "outputs": [],
   "source": [
    "cv = CountVectorizer(ngram_range=(1,2))"
   ]
  },
  {
   "cell_type": "code",
   "execution_count": 8,
   "id": "505ede79",
   "metadata": {},
   "outputs": [],
   "source": [
    "x_vect = cv.fit_transform([sentence_1, sentence_2])"
   ]
  },
  {
   "cell_type": "code",
   "execution_count": 9,
   "id": "e86a4513",
   "metadata": {},
   "outputs": [
    {
     "data": {
      "text/plain": [
       "array(['and', 'and it', 'brown', 'brown fox', 'cat', 'cat chases',\n",
       "       'chases', 'chases the', 'dog', 'fox', 'fox jumps', 'it',\n",
       "       'it squeaks', 'jumps', 'jumps over', 'lazy', 'lazy dog', 'loudly',\n",
       "       'mouse', 'mouse and', 'over', 'over the', 'quick', 'quick brown',\n",
       "       'squeaks', 'squeaks loudly', 'the', 'the cat', 'the lazy',\n",
       "       'the mouse', 'the quick'], dtype=object)"
      ]
     },
     "execution_count": 9,
     "metadata": {},
     "output_type": "execute_result"
    }
   ],
   "source": [
    "cv.get_feature_names_out()"
   ]
  },
  {
   "cell_type": "code",
   "execution_count": 11,
   "id": "3666d678",
   "metadata": {},
   "outputs": [],
   "source": [
    "import pandas as pd"
   ]
  },
  {
   "cell_type": "code",
   "execution_count": 12,
   "id": "f8405d4e",
   "metadata": {},
   "outputs": [
    {
     "data": {
      "text/html": [
       "<div>\n",
       "<style scoped>\n",
       "    .dataframe tbody tr th:only-of-type {\n",
       "        vertical-align: middle;\n",
       "    }\n",
       "\n",
       "    .dataframe tbody tr th {\n",
       "        vertical-align: top;\n",
       "    }\n",
       "\n",
       "    .dataframe thead th {\n",
       "        text-align: right;\n",
       "    }\n",
       "</style>\n",
       "<table border=\"1\" class=\"dataframe\">\n",
       "  <thead>\n",
       "    <tr style=\"text-align: right;\">\n",
       "      <th></th>\n",
       "      <th>and</th>\n",
       "      <th>and it</th>\n",
       "      <th>brown</th>\n",
       "      <th>brown fox</th>\n",
       "      <th>cat</th>\n",
       "      <th>cat chases</th>\n",
       "      <th>chases</th>\n",
       "      <th>chases the</th>\n",
       "      <th>dog</th>\n",
       "      <th>fox</th>\n",
       "      <th>...</th>\n",
       "      <th>over the</th>\n",
       "      <th>quick</th>\n",
       "      <th>quick brown</th>\n",
       "      <th>squeaks</th>\n",
       "      <th>squeaks loudly</th>\n",
       "      <th>the</th>\n",
       "      <th>the cat</th>\n",
       "      <th>the lazy</th>\n",
       "      <th>the mouse</th>\n",
       "      <th>the quick</th>\n",
       "    </tr>\n",
       "  </thead>\n",
       "  <tbody>\n",
       "    <tr>\n",
       "      <th>0</th>\n",
       "      <td>0</td>\n",
       "      <td>0</td>\n",
       "      <td>1</td>\n",
       "      <td>1</td>\n",
       "      <td>0</td>\n",
       "      <td>0</td>\n",
       "      <td>0</td>\n",
       "      <td>0</td>\n",
       "      <td>1</td>\n",
       "      <td>1</td>\n",
       "      <td>...</td>\n",
       "      <td>1</td>\n",
       "      <td>1</td>\n",
       "      <td>1</td>\n",
       "      <td>0</td>\n",
       "      <td>0</td>\n",
       "      <td>2</td>\n",
       "      <td>0</td>\n",
       "      <td>1</td>\n",
       "      <td>0</td>\n",
       "      <td>1</td>\n",
       "    </tr>\n",
       "    <tr>\n",
       "      <th>1</th>\n",
       "      <td>1</td>\n",
       "      <td>1</td>\n",
       "      <td>0</td>\n",
       "      <td>0</td>\n",
       "      <td>1</td>\n",
       "      <td>1</td>\n",
       "      <td>1</td>\n",
       "      <td>1</td>\n",
       "      <td>0</td>\n",
       "      <td>0</td>\n",
       "      <td>...</td>\n",
       "      <td>0</td>\n",
       "      <td>0</td>\n",
       "      <td>0</td>\n",
       "      <td>1</td>\n",
       "      <td>1</td>\n",
       "      <td>2</td>\n",
       "      <td>1</td>\n",
       "      <td>0</td>\n",
       "      <td>1</td>\n",
       "      <td>0</td>\n",
       "    </tr>\n",
       "  </tbody>\n",
       "</table>\n",
       "<p>2 rows × 31 columns</p>\n",
       "</div>"
      ],
      "text/plain": [
       "   and  and it  brown  brown fox  cat  cat chases  chases  chases the  dog  \\\n",
       "0    0       0      1          1    0           0       0           0    1   \n",
       "1    1       1      0          0    1           1       1           1    0   \n",
       "\n",
       "   fox  ...  over the  quick  quick brown  squeaks  squeaks loudly  the  \\\n",
       "0    1  ...         1      1            1        0               0    2   \n",
       "1    0  ...         0      0            0        1               1    2   \n",
       "\n",
       "   the cat  the lazy  the mouse  the quick  \n",
       "0        0         1          0          1  \n",
       "1        1         0          1          0  \n",
       "\n",
       "[2 rows x 31 columns]"
      ]
     },
     "execution_count": 12,
     "metadata": {},
     "output_type": "execute_result"
    }
   ],
   "source": [
    "df = pd.DataFrame(x_vect.toarray(), \n",
    "                 columns=cv.get_feature_names_out())\n",
    "df"
   ]
  },
  {
   "cell_type": "code",
   "execution_count": null,
   "id": "17cc0187",
   "metadata": {},
   "outputs": [],
   "source": []
  }
 ],
 "metadata": {
  "kernelspec": {
   "display_name": "Python 3",
   "language": "python",
   "name": "python3"
  },
  "language_info": {
   "codemirror_mode": {
    "name": "ipython",
    "version": 3
   },
   "file_extension": ".py",
   "mimetype": "text/x-python",
   "name": "python",
   "nbconvert_exporter": "python",
   "pygments_lexer": "ipython3",
   "version": "3.8.10"
  }
 },
 "nbformat": 4,
 "nbformat_minor": 5
}
