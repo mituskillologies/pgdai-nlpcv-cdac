{
 "cells": [
  {
   "cell_type": "code",
   "execution_count": 1,
   "id": "75c2e28b",
   "metadata": {},
   "outputs": [
    {
     "name": "stdout",
     "output_type": "stream",
     "text": [
      "Defaulting to user installation because normal site-packages is not writeable\n",
      "Requirement already satisfied: indic_transliteration in /usr/local/lib/python3.8/dist-packages (1.9.9)\n",
      "Requirement already satisfied: regex in /home/mitu/.local/lib/python3.8/site-packages (from indic_transliteration) (2021.11.2)\n",
      "Requirement already satisfied: backports.functools-lru-cache in /usr/local/lib/python3.8/dist-packages (from indic_transliteration) (1.6.1)\n",
      "Requirement already satisfied: selenium in /usr/local/lib/python3.8/dist-packages (from indic_transliteration) (3.141.0)\n",
      "Requirement already satisfied: urllib3 in /home/mitu/.local/lib/python3.8/site-packages (from selenium->indic_transliteration) (1.26.14)\n",
      "\u001b[33mDEPRECATION: distro-info 0.23ubuntu1 has a non-standard version number. pip 24.0 will enforce this behaviour change. A possible replacement is to upgrade to a newer version of distro-info or contact the author to suggest that they release a version with a conforming version number. Discussion can be found at https://github.com/pypa/pip/issues/12063\u001b[0m\u001b[33m\n",
      "\u001b[0m\u001b[33mDEPRECATION: gpg 1.13.1-unknown has a non-standard version number. pip 24.0 will enforce this behaviour change. A possible replacement is to upgrade to a newer version of gpg or contact the author to suggest that they release a version with a conforming version number. Discussion can be found at https://github.com/pypa/pip/issues/12063\u001b[0m\u001b[33m\n",
      "\u001b[0m\u001b[33mDEPRECATION: python-debian 0.1.36ubuntu1 has a non-standard version number. pip 24.0 will enforce this behaviour change. A possible replacement is to upgrade to a newer version of python-debian or contact the author to suggest that they release a version with a conforming version number. Discussion can be found at https://github.com/pypa/pip/issues/12063\u001b[0m\u001b[33m\n",
      "\u001b[0m\n",
      "\u001b[1m[\u001b[0m\u001b[34;49mnotice\u001b[0m\u001b[1;39;49m]\u001b[0m\u001b[39;49m A new release of pip is available: \u001b[0m\u001b[31;49m23.3.1\u001b[0m\u001b[39;49m -> \u001b[0m\u001b[32;49m23.3.2\u001b[0m\n",
      "\u001b[1m[\u001b[0m\u001b[34;49mnotice\u001b[0m\u001b[1;39;49m]\u001b[0m\u001b[39;49m To update, run: \u001b[0m\u001b[32;49mpython3 -m pip install --upgrade pip\u001b[0m\n"
     ]
    }
   ],
   "source": [
    "!pip install indic_transliteration"
   ]
  },
  {
   "cell_type": "code",
   "execution_count": 2,
   "id": "ed9ead4b",
   "metadata": {},
   "outputs": [],
   "source": [
    "from indic_transliteration import sanscript \n",
    "from indic_transliteration.sanscript import transliterate"
   ]
  },
  {
   "cell_type": "code",
   "execution_count": 3,
   "id": "c9a0569b",
   "metadata": {},
   "outputs": [],
   "source": [
    "data = 'tuShaara kuTe'"
   ]
  },
  {
   "cell_type": "code",
   "execution_count": 4,
   "id": "014d77ad",
   "metadata": {},
   "outputs": [
    {
     "name": "stdout",
     "output_type": "stream",
     "text": [
      "तुषार कुटे\n"
     ]
    }
   ],
   "source": [
    "print(transliterate(data, sanscript.ITRANS, sanscript.DEVANAGARI))"
   ]
  },
  {
   "cell_type": "code",
   "execution_count": 5,
   "id": "c99eb3b2",
   "metadata": {},
   "outputs": [
    {
     "name": "stdout",
     "output_type": "stream",
     "text": [
      "তুষার কুটে\n"
     ]
    }
   ],
   "source": [
    "print(transliterate(data, sanscript.ITRANS, sanscript.BENGALI))"
   ]
  },
  {
   "cell_type": "code",
   "execution_count": 6,
   "id": "8b6893c1",
   "metadata": {},
   "outputs": [
    {
     "name": "stdout",
     "output_type": "stream",
     "text": [
      "તુષાર કુટે\n"
     ]
    }
   ],
   "source": [
    "print(transliterate(data, sanscript.ITRANS, sanscript.GUJARATI))"
   ]
  },
  {
   "cell_type": "code",
   "execution_count": 8,
   "id": "9755d84b",
   "metadata": {},
   "outputs": [
    {
     "name": "stdout",
     "output_type": "stream",
     "text": [
      "ਤੁਸ਼਼ਾਰ ਕੁਟੇ\n"
     ]
    }
   ],
   "source": [
    "print(transliterate(data, sanscript.ITRANS, sanscript.GURMUKHI))"
   ]
  },
  {
   "cell_type": "code",
   "execution_count": 9,
   "id": "cc92e3f3",
   "metadata": {},
   "outputs": [
    {
     "name": "stdout",
     "output_type": "stream",
     "text": [
      "ऋषिकेश\n"
     ]
    }
   ],
   "source": [
    "data = 'RRiShikesha'\n",
    "print(transliterate(data, sanscript.ITRANS, sanscript.DEVANAGARI))"
   ]
  },
  {
   "cell_type": "code",
   "execution_count": 10,
   "id": "161ab65d",
   "metadata": {},
   "outputs": [
    {
     "name": "stdout",
     "output_type": "stream",
     "text": [
      "धनश्री\n"
     ]
    }
   ],
   "source": [
    "data = 'dhanashrI'\n",
    "print(transliterate(data, sanscript.ITRANS, sanscript.DEVANAGARI))"
   ]
  },
  {
   "cell_type": "code",
   "execution_count": 11,
   "id": "3da85f86",
   "metadata": {},
   "outputs": [
    {
     "name": "stdout",
     "output_type": "stream",
     "text": [
      "Enter your name:Raajaaraama\n",
      "Rआजाराम\n"
     ]
    }
   ],
   "source": [
    "data = input('Enter your name:')\n",
    "print(transliterate(data, sanscript.ITRANS, sanscript.DEVANAGARI))"
   ]
  },
  {
   "cell_type": "code",
   "execution_count": null,
   "id": "0b098311",
   "metadata": {},
   "outputs": [],
   "source": []
  }
 ],
 "metadata": {
  "kernelspec": {
   "display_name": "Python 3",
   "language": "python",
   "name": "python3"
  },
  "language_info": {
   "codemirror_mode": {
    "name": "ipython",
    "version": 3
   },
   "file_extension": ".py",
   "mimetype": "text/x-python",
   "name": "python",
   "nbconvert_exporter": "python",
   "pygments_lexer": "ipython3",
   "version": "3.8.10"
  }
 },
 "nbformat": 4,
 "nbformat_minor": 5
}
